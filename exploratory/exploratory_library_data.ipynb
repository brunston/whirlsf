{
 "cells": [
  {
   "cell_type": "code",
   "execution_count": 1,
   "metadata": {
    "collapsed": false
   },
   "outputs": [],
   "source": [
    "# imports\n",
    "import os.path\n",
    "import numpy as np\n",
    "import pandas as pd"
   ]
  },
  {
   "cell_type": "code",
   "execution_count": 2,
   "metadata": {
    "collapsed": false
   },
   "outputs": [],
   "source": [
    "# housekeeping\n",
    "data_dir = os.path.dirname(os.getcwd()) + \"/data/\""
   ]
  },
  {
   "cell_type": "code",
   "execution_count": 3,
   "metadata": {
    "collapsed": false
   },
   "outputs": [],
   "source": [
    "# library data load\n",
    "lib_data = pd.read_csv(data_dir + \"Library_Usage.csv\")\n",
    "park_historical_data = pd.read_csv(data_dir + \"Park_Scores_2005-2014.csv\")\n",
    "park_recent_data = pd.read_csv(data_dir + \"Park_Evaluation_Scores_starting_Fiscal_Year_2015.csv\")"
   ]
  },
  {
   "cell_type": "code",
   "execution_count": 4,
   "metadata": {
    "collapsed": false
   },
   "outputs": [
    {
     "data": {
      "text/html": [
       "<div>\n",
       "<table border=\"1\" class=\"dataframe\">\n",
       "  <thead>\n",
       "    <tr style=\"text-align: right;\">\n",
       "      <th></th>\n",
       "      <th>Patron Type Code</th>\n",
       "      <th>Patron Type Definition</th>\n",
       "      <th>Total Checkouts</th>\n",
       "      <th>Total Renewals</th>\n",
       "      <th>Age Range</th>\n",
       "      <th>Home Library Code</th>\n",
       "      <th>Home Library Definition</th>\n",
       "      <th>Circulation Active Month</th>\n",
       "      <th>Circulation Active Year</th>\n",
       "      <th>Notice Preference Code</th>\n",
       "      <th>Notice Preference Definition</th>\n",
       "      <th>Provided Email Address</th>\n",
       "      <th>Year Patron Registered</th>\n",
       "      <th>Outside of County</th>\n",
       "      <th>Supervisor District</th>\n",
       "    </tr>\n",
       "  </thead>\n",
       "  <tbody>\n",
       "    <tr>\n",
       "      <th>0</th>\n",
       "      <td>3</td>\n",
       "      <td>SENIOR</td>\n",
       "      <td>28</td>\n",
       "      <td>13</td>\n",
       "      <td>65 to 74 years</td>\n",
       "      <td>X</td>\n",
       "      <td>Main Library</td>\n",
       "      <td>November</td>\n",
       "      <td>2012</td>\n",
       "      <td>z</td>\n",
       "      <td>email</td>\n",
       "      <td>True</td>\n",
       "      <td>2003</td>\n",
       "      <td>True</td>\n",
       "      <td>NaN</td>\n",
       "    </tr>\n",
       "    <tr>\n",
       "      <th>1</th>\n",
       "      <td>0</td>\n",
       "      <td>ADULT</td>\n",
       "      <td>21</td>\n",
       "      <td>10</td>\n",
       "      <td>55 to 59 years</td>\n",
       "      <td>X</td>\n",
       "      <td>Main Library</td>\n",
       "      <td>October</td>\n",
       "      <td>2015</td>\n",
       "      <td>z</td>\n",
       "      <td>email</td>\n",
       "      <td>True</td>\n",
       "      <td>2003</td>\n",
       "      <td>False</td>\n",
       "      <td>NaN</td>\n",
       "    </tr>\n",
       "    <tr>\n",
       "      <th>2</th>\n",
       "      <td>0</td>\n",
       "      <td>ADULT</td>\n",
       "      <td>275</td>\n",
       "      <td>559</td>\n",
       "      <td>60 to 64 years</td>\n",
       "      <td>X</td>\n",
       "      <td>Main Library</td>\n",
       "      <td>January</td>\n",
       "      <td>2015</td>\n",
       "      <td>z</td>\n",
       "      <td>email</td>\n",
       "      <td>True</td>\n",
       "      <td>2003</td>\n",
       "      <td>True</td>\n",
       "      <td>NaN</td>\n",
       "    </tr>\n",
       "    <tr>\n",
       "      <th>3</th>\n",
       "      <td>0</td>\n",
       "      <td>ADULT</td>\n",
       "      <td>73</td>\n",
       "      <td>38</td>\n",
       "      <td>45 to 54 years</td>\n",
       "      <td>M8</td>\n",
       "      <td>Mission Bay</td>\n",
       "      <td>February</td>\n",
       "      <td>2016</td>\n",
       "      <td>z</td>\n",
       "      <td>email</td>\n",
       "      <td>True</td>\n",
       "      <td>2003</td>\n",
       "      <td>False</td>\n",
       "      <td>NaN</td>\n",
       "    </tr>\n",
       "    <tr>\n",
       "      <th>4</th>\n",
       "      <td>0</td>\n",
       "      <td>ADULT</td>\n",
       "      <td>182</td>\n",
       "      <td>90</td>\n",
       "      <td>45 to 54 years</td>\n",
       "      <td>X</td>\n",
       "      <td>Main Library</td>\n",
       "      <td>July</td>\n",
       "      <td>2016</td>\n",
       "      <td>z</td>\n",
       "      <td>email</td>\n",
       "      <td>True</td>\n",
       "      <td>2003</td>\n",
       "      <td>False</td>\n",
       "      <td>NaN</td>\n",
       "    </tr>\n",
       "  </tbody>\n",
       "</table>\n",
       "</div>"
      ],
      "text/plain": [
       "   Patron Type Code Patron Type Definition  Total Checkouts  Total Renewals  \\\n",
       "0                 3                 SENIOR               28              13   \n",
       "1                 0                  ADULT               21              10   \n",
       "2                 0                  ADULT              275             559   \n",
       "3                 0                  ADULT               73              38   \n",
       "4                 0                  ADULT              182              90   \n",
       "\n",
       "        Age Range Home Library Code Home Library Definition  \\\n",
       "0  65 to 74 years                 X            Main Library   \n",
       "1  55 to 59 years                 X            Main Library   \n",
       "2  60 to 64 years                 X            Main Library   \n",
       "3  45 to 54 years                M8             Mission Bay   \n",
       "4  45 to 54 years                 X            Main Library   \n",
       "\n",
       "  Circulation Active Month Circulation Active Year Notice Preference Code  \\\n",
       "0                 November                    2012                      z   \n",
       "1                  October                    2015                      z   \n",
       "2                  January                    2015                      z   \n",
       "3                 February                    2016                      z   \n",
       "4                     July                    2016                      z   \n",
       "\n",
       "  Notice Preference Definition Provided Email Address  Year Patron Registered  \\\n",
       "0                        email                   True                    2003   \n",
       "1                        email                   True                    2003   \n",
       "2                        email                   True                    2003   \n",
       "3                        email                   True                    2003   \n",
       "4                        email                   True                    2003   \n",
       "\n",
       "  Outside of County  Supervisor District  \n",
       "0              True                  NaN  \n",
       "1             False                  NaN  \n",
       "2              True                  NaN  \n",
       "3             False                  NaN  \n",
       "4             False                  NaN  "
      ]
     },
     "execution_count": 4,
     "metadata": {},
     "output_type": "execute_result"
    }
   ],
   "source": [
    "# let's get a sense of what our data looks like\n",
    "lib_data.head()"
   ]
  },
  {
   "cell_type": "code",
   "execution_count": 5,
   "metadata": {
    "collapsed": false
   },
   "outputs": [
    {
     "data": {
      "text/plain": [
       "Index(['Patron Type Code', 'Patron Type Definition', 'Total Checkouts',\n",
       "       'Total Renewals', 'Age Range', 'Home Library Code',\n",
       "       'Home Library Definition', 'Circulation Active Month',\n",
       "       'Circulation Active Year', 'Notice Preference Code',\n",
       "       'Notice Preference Definition', 'Provided Email Address',\n",
       "       'Year Patron Registered', 'Outside of County', 'Supervisor District'],\n",
       "      dtype='object')"
      ]
     },
     "execution_count": 5,
     "metadata": {},
     "output_type": "execute_result"
    }
   ],
   "source": [
    "lib_data.columns"
   ]
  },
  {
   "cell_type": "code",
   "execution_count": 6,
   "metadata": {
    "collapsed": false
   },
   "outputs": [
    {
     "data": {
      "text/plain": [
       "(423448, 15)"
      ]
     },
     "execution_count": 6,
     "metadata": {},
     "output_type": "execute_result"
    }
   ],
   "source": [
    "lib_data.shape"
   ]
  },
  {
   "cell_type": "code",
   "execution_count": 7,
   "metadata": {
    "collapsed": false
   },
   "outputs": [
    {
     "data": {
      "text/html": [
       "<div>\n",
       "<table border=\"1\" class=\"dataframe\">\n",
       "  <thead>\n",
       "    <tr style=\"text-align: right;\">\n",
       "      <th></th>\n",
       "      <th>Total Checkouts</th>\n",
       "      <th>Total Renewals</th>\n",
       "      <th>Year Patron Registered</th>\n",
       "    </tr>\n",
       "  </thead>\n",
       "  <tbody>\n",
       "    <tr>\n",
       "      <th>count</th>\n",
       "      <td>423448.000000</td>\n",
       "      <td>423448.000000</td>\n",
       "      <td>423448.000000</td>\n",
       "    </tr>\n",
       "    <tr>\n",
       "      <th>mean</th>\n",
       "      <td>161.982097</td>\n",
       "      <td>59.657327</td>\n",
       "      <td>2010.348917</td>\n",
       "    </tr>\n",
       "    <tr>\n",
       "      <th>std</th>\n",
       "      <td>453.703678</td>\n",
       "      <td>225.009917</td>\n",
       "      <td>4.357374</td>\n",
       "    </tr>\n",
       "    <tr>\n",
       "      <th>min</th>\n",
       "      <td>0.000000</td>\n",
       "      <td>0.000000</td>\n",
       "      <td>2003.000000</td>\n",
       "    </tr>\n",
       "    <tr>\n",
       "      <th>25%</th>\n",
       "      <td>2.000000</td>\n",
       "      <td>0.000000</td>\n",
       "      <td>2007.000000</td>\n",
       "    </tr>\n",
       "    <tr>\n",
       "      <th>50%</th>\n",
       "      <td>19.000000</td>\n",
       "      <td>2.000000</td>\n",
       "      <td>2012.000000</td>\n",
       "    </tr>\n",
       "    <tr>\n",
       "      <th>75%</th>\n",
       "      <td>113.000000</td>\n",
       "      <td>27.000000</td>\n",
       "      <td>2014.000000</td>\n",
       "    </tr>\n",
       "    <tr>\n",
       "      <th>max</th>\n",
       "      <td>35907.000000</td>\n",
       "      <td>8965.000000</td>\n",
       "      <td>2016.000000</td>\n",
       "    </tr>\n",
       "  </tbody>\n",
       "</table>\n",
       "</div>"
      ],
      "text/plain": [
       "       Total Checkouts  Total Renewals  Year Patron Registered\n",
       "count    423448.000000   423448.000000           423448.000000\n",
       "mean        161.982097       59.657327             2010.348917\n",
       "std         453.703678      225.009917                4.357374\n",
       "min           0.000000        0.000000             2003.000000\n",
       "25%           2.000000        0.000000             2007.000000\n",
       "50%          19.000000        2.000000             2012.000000\n",
       "75%         113.000000       27.000000             2014.000000\n",
       "max       35907.000000     8965.000000             2016.000000"
      ]
     },
     "execution_count": 7,
     "metadata": {},
     "output_type": "execute_result"
    }
   ],
   "source": [
    "lib_data.loc[:,[\"Total Checkouts\", \"Total Renewals\", \"Year Patron Registered\"]].describe()"
   ]
  },
  {
   "cell_type": "code",
   "execution_count": 8,
   "metadata": {
    "collapsed": true
   },
   "outputs": [],
   "source": [
    "# the data runs from 2003-2016, average books checked out is 162, average renewals 60.\n",
    "# note these are over the entire history of the patron\n",
    "\n",
    "# we can subtract the year they were registered from 2016 and divide the total number of checkouts\n",
    "# by this number to get number of checkouts per year\n",
    "\n",
    "# group this by supervisor district"
   ]
  },
  {
   "cell_type": "code",
   "execution_count": 9,
   "metadata": {
    "collapsed": false
   },
   "outputs": [
    {
     "data": {
      "text/plain": [
       "'\\nThings I want to do to explore this data:\\n- DONE remove records without supervisor districts\\n- DONE group by supervisor district and explore mean\\n- DONE group by supervisor district to determine park service area overlap with supervisor district\\n- look at trends in age, checkouts, renewals by supervisor district\\n- match supervisor districts with park scores from other DataSF data\\n- see if there is correlation\\n\\n- cook up a way to access this data using dash\\n- dockerize\\n'"
      ]
     },
     "execution_count": 9,
     "metadata": {},
     "output_type": "execute_result"
    }
   ],
   "source": [
    "\"\"\"\n",
    "Things I want to do to explore this data:\n",
    "- DONE remove records without supervisor districts\n",
    "- DONE group by supervisor district and explore mean\n",
    "- DONE group by supervisor district to determine park service area overlap with supervisor district\n",
    "- look at trends in age, checkouts, renewals by supervisor district\n",
    "- match supervisor districts with park scores from other DataSF data\n",
    "- see if there is correlation\n",
    "\n",
    "- cook up a way to access this data using dash\n",
    "- dockerize\n",
    "\"\"\"\n",
    "\n",
    "#lib_data.where(np.isnan(lib_data[\"Supervisor District\"]))"
   ]
  },
  {
   "cell_type": "code",
   "execution_count": 10,
   "metadata": {
    "collapsed": false
   },
   "outputs": [],
   "source": [
    "lib_data_w_sd = lib_data.dropna(subset=[\"Supervisor District\"])\n",
    "# only library data that has a supervisor district"
   ]
  },
  {
   "cell_type": "code",
   "execution_count": 11,
   "metadata": {
    "collapsed": false
   },
   "outputs": [
    {
     "data": {
      "text/plain": [
       "(313138, 15)"
      ]
     },
     "execution_count": 11,
     "metadata": {},
     "output_type": "execute_result"
    }
   ],
   "source": [
    "lib_data_w_sd.shape"
   ]
  },
  {
   "cell_type": "code",
   "execution_count": 12,
   "metadata": {
    "collapsed": false
   },
   "outputs": [
    {
     "data": {
      "text/html": [
       "<div>\n",
       "<table border=\"1\" class=\"dataframe\">\n",
       "  <thead>\n",
       "    <tr style=\"text-align: right;\">\n",
       "      <th></th>\n",
       "      <th>ParkID</th>\n",
       "      <th>PSA</th>\n",
       "      <th>Park</th>\n",
       "      <th>FQ</th>\n",
       "      <th>Score</th>\n",
       "    </tr>\n",
       "  </thead>\n",
       "  <tbody>\n",
       "    <tr>\n",
       "      <th>0</th>\n",
       "      <td>86</td>\n",
       "      <td>PSA4</td>\n",
       "      <td>Carl Larsen Park</td>\n",
       "      <td>FY05Q3</td>\n",
       "      <td>0.795</td>\n",
       "    </tr>\n",
       "    <tr>\n",
       "      <th>1</th>\n",
       "      <td>13</td>\n",
       "      <td>PSA4</td>\n",
       "      <td>Junipero Serra Playground</td>\n",
       "      <td>FY05Q3</td>\n",
       "      <td>0.957</td>\n",
       "    </tr>\n",
       "    <tr>\n",
       "      <th>2</th>\n",
       "      <td>9</td>\n",
       "      <td>PSA4</td>\n",
       "      <td>Rolph Nicol Playground</td>\n",
       "      <td>FY05Q3</td>\n",
       "      <td>0.864</td>\n",
       "    </tr>\n",
       "    <tr>\n",
       "      <th>3</th>\n",
       "      <td>117</td>\n",
       "      <td>PSA2</td>\n",
       "      <td>Alamo Square</td>\n",
       "      <td>FY05Q4</td>\n",
       "      <td>0.857</td>\n",
       "    </tr>\n",
       "    <tr>\n",
       "      <th>4</th>\n",
       "      <td>60</td>\n",
       "      <td>PSA6</td>\n",
       "      <td>Jose Coronado Playground</td>\n",
       "      <td>FY05Q4</td>\n",
       "      <td>0.859</td>\n",
       "    </tr>\n",
       "  </tbody>\n",
       "</table>\n",
       "</div>"
      ],
      "text/plain": [
       "   ParkID   PSA                       Park      FQ  Score\n",
       "0      86  PSA4           Carl Larsen Park  FY05Q3  0.795\n",
       "1      13  PSA4  Junipero Serra Playground  FY05Q3  0.957\n",
       "2       9  PSA4     Rolph Nicol Playground  FY05Q3  0.864\n",
       "3     117  PSA2               Alamo Square  FY05Q4  0.857\n",
       "4      60  PSA6   Jose Coronado Playground  FY05Q4  0.859"
      ]
     },
     "execution_count": 12,
     "metadata": {},
     "output_type": "execute_result"
    }
   ],
   "source": [
    "park_historical_data.head()"
   ]
  },
  {
   "cell_type": "code",
   "execution_count": 13,
   "metadata": {
    "collapsed": false
   },
   "outputs": [
    {
     "data": {
      "text/html": [
       "<div>\n",
       "<table border=\"1\" class=\"dataframe\">\n",
       "  <thead>\n",
       "    <tr style=\"text-align: right;\">\n",
       "      <th></th>\n",
       "      <th>Park</th>\n",
       "      <th>Park Type</th>\n",
       "      <th>Park Site Score</th>\n",
       "      <th>PSA</th>\n",
       "      <th>Supervisor District</th>\n",
       "    </tr>\n",
       "  </thead>\n",
       "  <tbody>\n",
       "    <tr>\n",
       "      <th>0</th>\n",
       "      <td>10th Avenue-Clement Mini Park</td>\n",
       "      <td>Mini Park</td>\n",
       "      <td>88.2</td>\n",
       "      <td>PSA 1</td>\n",
       "      <td>1</td>\n",
       "    </tr>\n",
       "    <tr>\n",
       "      <th>1</th>\n",
       "      <td>24th Street-York Mini Park</td>\n",
       "      <td>Mini Park</td>\n",
       "      <td>89.4</td>\n",
       "      <td>PSA 6</td>\n",
       "      <td>9</td>\n",
       "    </tr>\n",
       "    <tr>\n",
       "      <th>2</th>\n",
       "      <td>Adam Rogers Park</td>\n",
       "      <td>Neighborhood Park or Playground</td>\n",
       "      <td>88.4</td>\n",
       "      <td>PSA 3</td>\n",
       "      <td>10</td>\n",
       "    </tr>\n",
       "    <tr>\n",
       "      <th>3</th>\n",
       "      <td>Alamo Square</td>\n",
       "      <td>Neighborhood Park or Playground</td>\n",
       "      <td>85.0</td>\n",
       "      <td>PSA 2</td>\n",
       "      <td>5</td>\n",
       "    </tr>\n",
       "    <tr>\n",
       "      <th>4</th>\n",
       "      <td>Alice Chalmers Playground</td>\n",
       "      <td>Neighborhood Park or Playground</td>\n",
       "      <td>63.1</td>\n",
       "      <td>PSA 3</td>\n",
       "      <td>11</td>\n",
       "    </tr>\n",
       "  </tbody>\n",
       "</table>\n",
       "</div>"
      ],
      "text/plain": [
       "                            Park                        Park Type  \\\n",
       "0  10th Avenue-Clement Mini Park                        Mini Park   \n",
       "1     24th Street-York Mini Park                        Mini Park   \n",
       "2               Adam Rogers Park  Neighborhood Park or Playground   \n",
       "3                   Alamo Square  Neighborhood Park or Playground   \n",
       "4      Alice Chalmers Playground  Neighborhood Park or Playground   \n",
       "\n",
       "   Park Site Score    PSA  Supervisor District  \n",
       "0             88.2  PSA 1                    1  \n",
       "1             89.4  PSA 6                    9  \n",
       "2             88.4  PSA 3                   10  \n",
       "3             85.0  PSA 2                    5  \n",
       "4             63.1  PSA 3                   11  "
      ]
     },
     "execution_count": 13,
     "metadata": {},
     "output_type": "execute_result"
    }
   ],
   "source": [
    "park_recent_data.head()"
   ]
  },
  {
   "cell_type": "code",
   "execution_count": 14,
   "metadata": {
    "collapsed": false
   },
   "outputs": [
    {
     "data": {
      "text/html": [
       "<div>\n",
       "<table border=\"1\" class=\"dataframe\">\n",
       "  <thead>\n",
       "    <tr style=\"text-align: right;\">\n",
       "      <th></th>\n",
       "      <th>Park Site Score</th>\n",
       "    </tr>\n",
       "    <tr>\n",
       "      <th>Supervisor District</th>\n",
       "      <th></th>\n",
       "    </tr>\n",
       "  </thead>\n",
       "  <tbody>\n",
       "    <tr>\n",
       "      <th>1</th>\n",
       "      <td>88.128571</td>\n",
       "    </tr>\n",
       "    <tr>\n",
       "      <th>2</th>\n",
       "      <td>87.050000</td>\n",
       "    </tr>\n",
       "    <tr>\n",
       "      <th>3</th>\n",
       "      <td>86.080952</td>\n",
       "    </tr>\n",
       "    <tr>\n",
       "      <th>4</th>\n",
       "      <td>86.012500</td>\n",
       "    </tr>\n",
       "    <tr>\n",
       "      <th>5</th>\n",
       "      <td>88.400000</td>\n",
       "    </tr>\n",
       "    <tr>\n",
       "      <th>6</th>\n",
       "      <td>85.575000</td>\n",
       "    </tr>\n",
       "    <tr>\n",
       "      <th>7</th>\n",
       "      <td>87.172727</td>\n",
       "    </tr>\n",
       "    <tr>\n",
       "      <th>8</th>\n",
       "      <td>86.030000</td>\n",
       "    </tr>\n",
       "    <tr>\n",
       "      <th>9</th>\n",
       "      <td>86.831579</td>\n",
       "    </tr>\n",
       "    <tr>\n",
       "      <th>10</th>\n",
       "      <td>81.943478</td>\n",
       "    </tr>\n",
       "    <tr>\n",
       "      <th>11</th>\n",
       "      <td>77.100000</td>\n",
       "    </tr>\n",
       "  </tbody>\n",
       "</table>\n",
       "</div>"
      ],
      "text/plain": [
       "                     Park Site Score\n",
       "Supervisor District                 \n",
       "1                          88.128571\n",
       "2                          87.050000\n",
       "3                          86.080952\n",
       "4                          86.012500\n",
       "5                          88.400000\n",
       "6                          85.575000\n",
       "7                          87.172727\n",
       "8                          86.030000\n",
       "9                          86.831579\n",
       "10                         81.943478\n",
       "11                         77.100000"
      ]
     },
     "execution_count": 14,
     "metadata": {},
     "output_type": "execute_result"
    }
   ],
   "source": [
    "park_recent_data.groupby([\"Supervisor District\"]).mean()\n",
    "# this is an interesting tidbit."
   ]
  },
  {
   "cell_type": "code",
   "execution_count": 15,
   "metadata": {
    "collapsed": false
   },
   "outputs": [
    {
     "data": {
      "text/html": [
       "<div>\n",
       "<table border=\"1\" class=\"dataframe\">\n",
       "  <thead>\n",
       "    <tr style=\"text-align: right;\">\n",
       "      <th></th>\n",
       "      <th>Park Site Score</th>\n",
       "      <th>Supervisor District</th>\n",
       "    </tr>\n",
       "    <tr>\n",
       "      <th>PSA</th>\n",
       "      <th></th>\n",
       "      <th></th>\n",
       "    </tr>\n",
       "  </thead>\n",
       "  <tbody>\n",
       "    <tr>\n",
       "      <th>GGP</th>\n",
       "      <td>86.100000</td>\n",
       "      <td>1.000000</td>\n",
       "    </tr>\n",
       "    <tr>\n",
       "      <th>PSA 1</th>\n",
       "      <td>87.045455</td>\n",
       "      <td>2.181818</td>\n",
       "    </tr>\n",
       "    <tr>\n",
       "      <th>PSA 2</th>\n",
       "      <td>87.775000</td>\n",
       "      <td>6.062500</td>\n",
       "    </tr>\n",
       "    <tr>\n",
       "      <th>PSA 3</th>\n",
       "      <td>79.086957</td>\n",
       "      <td>10.173913</td>\n",
       "    </tr>\n",
       "    <tr>\n",
       "      <th>PSA 4</th>\n",
       "      <td>84.218182</td>\n",
       "      <td>6.545455</td>\n",
       "    </tr>\n",
       "    <tr>\n",
       "      <th>PSA 5</th>\n",
       "      <td>86.290476</td>\n",
       "      <td>8.000000</td>\n",
       "    </tr>\n",
       "    <tr>\n",
       "      <th>PSA 6</th>\n",
       "      <td>86.104348</td>\n",
       "      <td>8.782609</td>\n",
       "    </tr>\n",
       "  </tbody>\n",
       "</table>\n",
       "</div>"
      ],
      "text/plain": [
       "       Park Site Score  Supervisor District\n",
       "PSA                                        \n",
       "GGP          86.100000             1.000000\n",
       "PSA 1        87.045455             2.181818\n",
       "PSA 2        87.775000             6.062500\n",
       "PSA 3        79.086957            10.173913\n",
       "PSA 4        84.218182             6.545455\n",
       "PSA 5        86.290476             8.000000\n",
       "PSA 6        86.104348             8.782609"
      ]
     },
     "execution_count": 15,
     "metadata": {},
     "output_type": "execute_result"
    }
   ],
   "source": [
    "park_recent_data.groupby([\"PSA\"]).mean()"
   ]
  },
  {
   "cell_type": "code",
   "execution_count": 16,
   "metadata": {
    "collapsed": false
   },
   "outputs": [
    {
     "data": {
      "text/plain": [
       "PSA\n",
       "GGP     0.889997\n",
       "PSA1    0.923912\n",
       "PSA2    0.901968\n",
       "PSA3    0.857579\n",
       "PSA4    0.883901\n",
       "PSA5    0.879724\n",
       "PSA6    0.925487\n",
       "Name: Score, dtype: float64"
      ]
     },
     "execution_count": 16,
     "metadata": {},
     "output_type": "execute_result"
    }
   ],
   "source": [
    "park_historical_data.groupby([\"PSA\"]).mean()[\"Score\"]"
   ]
  },
  {
   "cell_type": "code",
   "execution_count": 17,
   "metadata": {
    "collapsed": false
   },
   "outputs": [
    {
     "name": "stdout",
     "output_type": "stream",
     "text": [
      "Supervisor District 1:  ['PSA 1', 'GGP', 'PSA 4']\n",
      "Supervisor District 2:  ['PSA 1']\n",
      "Supervisor District 3:  ['PSA 1', 'PSA 2']\n",
      "Supervisor District 4:  ['PSA 4']\n",
      "Supervisor District 5:  ['PSA 2']\n",
      "Supervisor District 6:  ['PSA 2', 'PSA 6']\n",
      "Supervisor District 7:  ['PSA 4', 'PSA 5']\n",
      "Supervisor District 8:  ['PSA 5', 'PSA 6']\n",
      "Supervisor District 9:  ['PSA 6', 'PSA 3']\n",
      "Supervisor District 10:  ['PSA 3', 'PSA 2', 'PSA 6']\n",
      "Supervisor District 11:  ['PSA 3', 'PSA 4', 'PSA 5']\n"
     ]
    }
   ],
   "source": [
    "supervisor_district = []\n",
    "for i in range(11):\n",
    "    supervisor_district.append([])\n",
    "    \n",
    "# I want to see where the park service areas overlap the supervisor districts\n",
    "\n",
    "for i in range(park_recent_data.shape[0]):\n",
    "    sd = park_recent_data.loc[park_recent_data.index[i], \"Supervisor District\"] - 1\n",
    "    psa = park_recent_data.loc[park_recent_data.index[i], \"PSA\"]\n",
    "    if psa not in supervisor_district[sd]:\n",
    "        supervisor_district[sd].append(psa)\n",
    "\n",
    "# runtime O(n) since we have a very small number of PSA in the individual supervisor_district array.\n",
    "        \n",
    "for i in range(len(supervisor_district)):\n",
    "    print(\"Supervisor District {0}: \".format(i+1), supervisor_district[i])"
   ]
  },
  {
   "cell_type": "markdown",
   "metadata": {
    "collapsed": true
   },
   "source": [
    "### Supervisor Districts in PSA:\n",
    "\n",
    "* GGP:\n",
    "    * 1\n",
    "* PSA 1:\n",
    "    * 1,2,3\n",
    "* PSA 2:\n",
    "    * 3,5,6,10\n",
    "* PSA 3:\n",
    "    * 9,10,11\n",
    "* PSA 4:\n",
    "    * 1,4,7,11\n",
    "* PSA 5:\n",
    "    * 7,8,11\n",
    "* PSA 6:\n",
    "    * 6,8,10\n",
    "    \n",
    "#### Since supervisor districts are more granular than the PSAs, we'll use SD and map the park scores as a weighted average based on how many supervisor districts they appear in "
   ]
  },
  {
   "cell_type": "code",
   "execution_count": 18,
   "metadata": {
    "collapsed": false
   },
   "outputs": [
    {
     "data": {
      "text/html": [
       "<div>\n",
       "<table border=\"1\" class=\"dataframe\">\n",
       "  <thead>\n",
       "    <tr style=\"text-align: right;\">\n",
       "      <th></th>\n",
       "      <th>Patron Type Code</th>\n",
       "      <th>Total Checkouts</th>\n",
       "      <th>Total Renewals</th>\n",
       "      <th>Provided Email Address</th>\n",
       "      <th>Year Patron Registered</th>\n",
       "      <th>Outside of County</th>\n",
       "    </tr>\n",
       "    <tr>\n",
       "      <th>Supervisor District</th>\n",
       "      <th></th>\n",
       "      <th></th>\n",
       "      <th></th>\n",
       "      <th></th>\n",
       "      <th></th>\n",
       "      <th></th>\n",
       "    </tr>\n",
       "  </thead>\n",
       "  <tbody>\n",
       "    <tr>\n",
       "      <th>1</th>\n",
       "      <td>0.984806</td>\n",
       "      <td>218.482361</td>\n",
       "      <td>84.322545</td>\n",
       "      <td>0.833651</td>\n",
       "      <td>2009.590697</td>\n",
       "      <td>0.000373</td>\n",
       "    </tr>\n",
       "    <tr>\n",
       "      <th>2</th>\n",
       "      <td>0.997589</td>\n",
       "      <td>135.532879</td>\n",
       "      <td>51.796956</td>\n",
       "      <td>0.894956</td>\n",
       "      <td>2010.568714</td>\n",
       "      <td>0.000851</td>\n",
       "    </tr>\n",
       "    <tr>\n",
       "      <th>3</th>\n",
       "      <td>1.090064</td>\n",
       "      <td>237.762087</td>\n",
       "      <td>69.529637</td>\n",
       "      <td>0.746287</td>\n",
       "      <td>2010.325313</td>\n",
       "      <td>0.001715</td>\n",
       "    </tr>\n",
       "    <tr>\n",
       "      <th>4</th>\n",
       "      <td>0.949755</td>\n",
       "      <td>250.812043</td>\n",
       "      <td>95.975618</td>\n",
       "      <td>0.809882</td>\n",
       "      <td>2009.346286</td>\n",
       "      <td>0.000586</td>\n",
       "    </tr>\n",
       "    <tr>\n",
       "      <th>5</th>\n",
       "      <td>0.962548</td>\n",
       "      <td>140.236211</td>\n",
       "      <td>57.932254</td>\n",
       "      <td>0.842467</td>\n",
       "      <td>2010.547362</td>\n",
       "      <td>0.001305</td>\n",
       "    </tr>\n",
       "    <tr>\n",
       "      <th>6</th>\n",
       "      <td>1.201079</td>\n",
       "      <td>159.816690</td>\n",
       "      <td>42.613649</td>\n",
       "      <td>0.745313</td>\n",
       "      <td>2011.406610</td>\n",
       "      <td>0.002754</td>\n",
       "    </tr>\n",
       "    <tr>\n",
       "      <th>7</th>\n",
       "      <td>0.998989</td>\n",
       "      <td>202.031986</td>\n",
       "      <td>81.073068</td>\n",
       "      <td>0.846788</td>\n",
       "      <td>2009.354842</td>\n",
       "      <td>0.001761</td>\n",
       "    </tr>\n",
       "    <tr>\n",
       "      <th>8</th>\n",
       "      <td>0.923858</td>\n",
       "      <td>163.039405</td>\n",
       "      <td>69.068333</td>\n",
       "      <td>0.874008</td>\n",
       "      <td>2009.840882</td>\n",
       "      <td>0.000748</td>\n",
       "    </tr>\n",
       "    <tr>\n",
       "      <th>9</th>\n",
       "      <td>0.891562</td>\n",
       "      <td>161.468131</td>\n",
       "      <td>54.605992</td>\n",
       "      <td>0.738643</td>\n",
       "      <td>2009.899264</td>\n",
       "      <td>0.000852</td>\n",
       "    </tr>\n",
       "    <tr>\n",
       "      <th>10</th>\n",
       "      <td>0.906192</td>\n",
       "      <td>138.875325</td>\n",
       "      <td>38.933371</td>\n",
       "      <td>0.661770</td>\n",
       "      <td>2010.518191</td>\n",
       "      <td>0.000434</td>\n",
       "    </tr>\n",
       "    <tr>\n",
       "      <th>11</th>\n",
       "      <td>0.997010</td>\n",
       "      <td>184.991030</td>\n",
       "      <td>59.617000</td>\n",
       "      <td>0.682054</td>\n",
       "      <td>2009.774905</td>\n",
       "      <td>0.000821</td>\n",
       "    </tr>\n",
       "  </tbody>\n",
       "</table>\n",
       "</div>"
      ],
      "text/plain": [
       "                     Patron Type Code  Total Checkouts  Total Renewals  \\\n",
       "Supervisor District                                                      \n",
       "1                            0.984806       218.482361       84.322545   \n",
       "2                            0.997589       135.532879       51.796956   \n",
       "3                            1.090064       237.762087       69.529637   \n",
       "4                            0.949755       250.812043       95.975618   \n",
       "5                            0.962548       140.236211       57.932254   \n",
       "6                            1.201079       159.816690       42.613649   \n",
       "7                            0.998989       202.031986       81.073068   \n",
       "8                            0.923858       163.039405       69.068333   \n",
       "9                            0.891562       161.468131       54.605992   \n",
       "10                           0.906192       138.875325       38.933371   \n",
       "11                           0.997010       184.991030       59.617000   \n",
       "\n",
       "                     Provided Email Address  Year Patron Registered  \\\n",
       "Supervisor District                                                   \n",
       "1                                  0.833651             2009.590697   \n",
       "2                                  0.894956             2010.568714   \n",
       "3                                  0.746287             2010.325313   \n",
       "4                                  0.809882             2009.346286   \n",
       "5                                  0.842467             2010.547362   \n",
       "6                                  0.745313             2011.406610   \n",
       "7                                  0.846788             2009.354842   \n",
       "8                                  0.874008             2009.840882   \n",
       "9                                  0.738643             2009.899264   \n",
       "10                                 0.661770             2010.518191   \n",
       "11                                 0.682054             2009.774905   \n",
       "\n",
       "                     Outside of County  \n",
       "Supervisor District                     \n",
       "1                             0.000373  \n",
       "2                             0.000851  \n",
       "3                             0.001715  \n",
       "4                             0.000586  \n",
       "5                             0.001305  \n",
       "6                             0.002754  \n",
       "7                             0.001761  \n",
       "8                             0.000748  \n",
       "9                             0.000852  \n",
       "10                            0.000434  \n",
       "11                            0.000821  "
      ]
     },
     "execution_count": 18,
     "metadata": {},
     "output_type": "execute_result"
    }
   ],
   "source": [
    "lib_data_w_sd.groupby([\"Supervisor District\"]).mean()"
   ]
  },
  {
   "cell_type": "code",
   "execution_count": 19,
   "metadata": {
    "collapsed": true
   },
   "outputs": [],
   "source": [
    "park_combined = pd.merge(park_historical_data, park_recent_data, on=\"Park\")"
   ]
  },
  {
   "cell_type": "code",
   "execution_count": 20,
   "metadata": {
    "collapsed": false
   },
   "outputs": [
    {
     "data": {
      "text/html": [
       "<div>\n",
       "<table border=\"1\" class=\"dataframe\">\n",
       "  <thead>\n",
       "    <tr style=\"text-align: right;\">\n",
       "      <th></th>\n",
       "      <th>ParkID</th>\n",
       "      <th>PSA_x</th>\n",
       "      <th>Park</th>\n",
       "      <th>FQ</th>\n",
       "      <th>Score</th>\n",
       "      <th>Park Type</th>\n",
       "      <th>Park Site Score</th>\n",
       "      <th>PSA_y</th>\n",
       "      <th>Supervisor District</th>\n",
       "    </tr>\n",
       "  </thead>\n",
       "  <tbody>\n",
       "    <tr>\n",
       "      <th>0</th>\n",
       "      <td>86</td>\n",
       "      <td>PSA4</td>\n",
       "      <td>Carl Larsen Park</td>\n",
       "      <td>FY05Q3</td>\n",
       "      <td>0.795</td>\n",
       "      <td>Neighborhood Park or Playground</td>\n",
       "      <td>88.7</td>\n",
       "      <td>PSA 4</td>\n",
       "      <td>4</td>\n",
       "    </tr>\n",
       "    <tr>\n",
       "      <th>1</th>\n",
       "      <td>86</td>\n",
       "      <td>PSA4</td>\n",
       "      <td>Carl Larsen Park</td>\n",
       "      <td>FY06Q1</td>\n",
       "      <td>0.813</td>\n",
       "      <td>Neighborhood Park or Playground</td>\n",
       "      <td>88.7</td>\n",
       "      <td>PSA 4</td>\n",
       "      <td>4</td>\n",
       "    </tr>\n",
       "    <tr>\n",
       "      <th>2</th>\n",
       "      <td>86</td>\n",
       "      <td>PSA4</td>\n",
       "      <td>Carl Larsen Park</td>\n",
       "      <td>FY06Q2</td>\n",
       "      <td>0.256</td>\n",
       "      <td>Neighborhood Park or Playground</td>\n",
       "      <td>88.7</td>\n",
       "      <td>PSA 4</td>\n",
       "      <td>4</td>\n",
       "    </tr>\n",
       "    <tr>\n",
       "      <th>3</th>\n",
       "      <td>86</td>\n",
       "      <td>PSA4</td>\n",
       "      <td>Carl Larsen Park</td>\n",
       "      <td>FY06Q4</td>\n",
       "      <td>0.648</td>\n",
       "      <td>Neighborhood Park or Playground</td>\n",
       "      <td>88.7</td>\n",
       "      <td>PSA 4</td>\n",
       "      <td>4</td>\n",
       "    </tr>\n",
       "    <tr>\n",
       "      <th>4</th>\n",
       "      <td>86</td>\n",
       "      <td>PSA4</td>\n",
       "      <td>Carl Larsen Park</td>\n",
       "      <td>FY07Q2</td>\n",
       "      <td>0.716</td>\n",
       "      <td>Neighborhood Park or Playground</td>\n",
       "      <td>88.7</td>\n",
       "      <td>PSA 4</td>\n",
       "      <td>4</td>\n",
       "    </tr>\n",
       "  </tbody>\n",
       "</table>\n",
       "</div>"
      ],
      "text/plain": [
       "   ParkID PSA_x              Park      FQ  Score  \\\n",
       "0      86  PSA4  Carl Larsen Park  FY05Q3  0.795   \n",
       "1      86  PSA4  Carl Larsen Park  FY06Q1  0.813   \n",
       "2      86  PSA4  Carl Larsen Park  FY06Q2  0.256   \n",
       "3      86  PSA4  Carl Larsen Park  FY06Q4  0.648   \n",
       "4      86  PSA4  Carl Larsen Park  FY07Q2  0.716   \n",
       "\n",
       "                         Park Type  Park Site Score  PSA_y  \\\n",
       "0  Neighborhood Park or Playground             88.7  PSA 4   \n",
       "1  Neighborhood Park or Playground             88.7  PSA 4   \n",
       "2  Neighborhood Park or Playground             88.7  PSA 4   \n",
       "3  Neighborhood Park or Playground             88.7  PSA 4   \n",
       "4  Neighborhood Park or Playground             88.7  PSA 4   \n",
       "\n",
       "   Supervisor District  \n",
       "0                    4  \n",
       "1                    4  \n",
       "2                    4  \n",
       "3                    4  \n",
       "4                    4  "
      ]
     },
     "execution_count": 20,
     "metadata": {},
     "output_type": "execute_result"
    }
   ],
   "source": [
    "park_combined.head()"
   ]
  },
  {
   "cell_type": "code",
   "execution_count": 21,
   "metadata": {
    "collapsed": false
   },
   "outputs": [
    {
     "data": {
      "text/html": [
       "<div>\n",
       "<table border=\"1\" class=\"dataframe\">\n",
       "  <thead>\n",
       "    <tr style=\"text-align: right;\">\n",
       "      <th></th>\n",
       "      <th>ParkID</th>\n",
       "      <th>Score</th>\n",
       "      <th>Park Site Score</th>\n",
       "      <th>Supervisor District</th>\n",
       "    </tr>\n",
       "    <tr>\n",
       "      <th>Park</th>\n",
       "      <th></th>\n",
       "      <th></th>\n",
       "      <th></th>\n",
       "      <th></th>\n",
       "    </tr>\n",
       "  </thead>\n",
       "  <tbody>\n",
       "    <tr>\n",
       "      <th>10th Avenue-Clement Mini Park</th>\n",
       "      <td>156</td>\n",
       "      <td>91.044000</td>\n",
       "      <td>88.2</td>\n",
       "      <td>1</td>\n",
       "    </tr>\n",
       "    <tr>\n",
       "      <th>24th Street-York Mini Park</th>\n",
       "      <td>51</td>\n",
       "      <td>97.803333</td>\n",
       "      <td>89.4</td>\n",
       "      <td>9</td>\n",
       "    </tr>\n",
       "    <tr>\n",
       "      <th>Adam Rogers Park</th>\n",
       "      <td>46</td>\n",
       "      <td>80.734375</td>\n",
       "      <td>88.4</td>\n",
       "      <td>10</td>\n",
       "    </tr>\n",
       "    <tr>\n",
       "      <th>Alamo Square</th>\n",
       "      <td>117</td>\n",
       "      <td>89.654839</td>\n",
       "      <td>85.0</td>\n",
       "      <td>5</td>\n",
       "    </tr>\n",
       "    <tr>\n",
       "      <th>Alice Chalmers Playground</th>\n",
       "      <td>25</td>\n",
       "      <td>89.837500</td>\n",
       "      <td>63.1</td>\n",
       "      <td>11</td>\n",
       "    </tr>\n",
       "  </tbody>\n",
       "</table>\n",
       "</div>"
      ],
      "text/plain": [
       "                               ParkID      Score  Park Site Score  \\\n",
       "Park                                                                \n",
       "10th Avenue-Clement Mini Park     156  91.044000             88.2   \n",
       "24th Street-York Mini Park         51  97.803333             89.4   \n",
       "Adam Rogers Park                   46  80.734375             88.4   \n",
       "Alamo Square                      117  89.654839             85.0   \n",
       "Alice Chalmers Playground          25  89.837500             63.1   \n",
       "\n",
       "                               Supervisor District  \n",
       "Park                                                \n",
       "10th Avenue-Clement Mini Park                    1  \n",
       "24th Street-York Mini Park                       9  \n",
       "Adam Rogers Park                                10  \n",
       "Alamo Square                                     5  \n",
       "Alice Chalmers Playground                       11  "
      ]
     },
     "execution_count": 21,
     "metadata": {},
     "output_type": "execute_result"
    }
   ],
   "source": [
    "grouped_by_park = park_combined.groupby([\"Park\"]).mean()\n",
    "grouped_by_park[\"Score\"] *= 100\n",
    "grouped_by_park.head()"
   ]
  },
  {
   "cell_type": "code",
   "execution_count": 22,
   "metadata": {
    "collapsed": false
   },
   "outputs": [
    {
     "data": {
      "text/html": [
       "<div>\n",
       "<table border=\"1\" class=\"dataframe\">\n",
       "  <thead>\n",
       "    <tr style=\"text-align: right;\">\n",
       "      <th></th>\n",
       "      <th>ParkID</th>\n",
       "      <th>Score</th>\n",
       "      <th>Park Site Score</th>\n",
       "    </tr>\n",
       "    <tr>\n",
       "      <th>Supervisor District</th>\n",
       "      <th></th>\n",
       "      <th></th>\n",
       "      <th></th>\n",
       "    </tr>\n",
       "  </thead>\n",
       "  <tbody>\n",
       "    <tr>\n",
       "      <th>1</th>\n",
       "      <td>118.153846</td>\n",
       "      <td>90.023564</td>\n",
       "      <td>88.969231</td>\n",
       "    </tr>\n",
       "    <tr>\n",
       "      <th>2</th>\n",
       "      <td>125.181818</td>\n",
       "      <td>93.511954</td>\n",
       "      <td>86.927273</td>\n",
       "    </tr>\n",
       "    <tr>\n",
       "      <th>3</th>\n",
       "      <td>150.125000</td>\n",
       "      <td>93.919523</td>\n",
       "      <td>87.537500</td>\n",
       "    </tr>\n",
       "    <tr>\n",
       "      <th>4</th>\n",
       "      <td>86.285714</td>\n",
       "      <td>89.512920</td>\n",
       "      <td>85.742857</td>\n",
       "    </tr>\n",
       "    <tr>\n",
       "      <th>5</th>\n",
       "      <td>121.785714</td>\n",
       "      <td>88.938648</td>\n",
       "      <td>88.485714</td>\n",
       "    </tr>\n",
       "    <tr>\n",
       "      <th>6</th>\n",
       "      <td>121.800000</td>\n",
       "      <td>90.631516</td>\n",
       "      <td>85.630000</td>\n",
       "    </tr>\n",
       "    <tr>\n",
       "      <th>7</th>\n",
       "      <td>64.909091</td>\n",
       "      <td>91.606806</td>\n",
       "      <td>87.172727</td>\n",
       "    </tr>\n",
       "    <tr>\n",
       "      <th>8</th>\n",
       "      <td>81.578947</td>\n",
       "      <td>89.319242</td>\n",
       "      <td>86.047368</td>\n",
       "    </tr>\n",
       "    <tr>\n",
       "      <th>9</th>\n",
       "      <td>75.823529</td>\n",
       "      <td>92.780364</td>\n",
       "      <td>86.929412</td>\n",
       "    </tr>\n",
       "    <tr>\n",
       "      <th>10</th>\n",
       "      <td>7314.526316</td>\n",
       "      <td>86.975325</td>\n",
       "      <td>81.605263</td>\n",
       "    </tr>\n",
       "    <tr>\n",
       "      <th>11</th>\n",
       "      <td>65.300000</td>\n",
       "      <td>86.169463</td>\n",
       "      <td>76.600000</td>\n",
       "    </tr>\n",
       "  </tbody>\n",
       "</table>\n",
       "</div>"
      ],
      "text/plain": [
       "                          ParkID      Score  Park Site Score\n",
       "Supervisor District                                         \n",
       "1                     118.153846  90.023564        88.969231\n",
       "2                     125.181818  93.511954        86.927273\n",
       "3                     150.125000  93.919523        87.537500\n",
       "4                      86.285714  89.512920        85.742857\n",
       "5                     121.785714  88.938648        88.485714\n",
       "6                     121.800000  90.631516        85.630000\n",
       "7                      64.909091  91.606806        87.172727\n",
       "8                      81.578947  89.319242        86.047368\n",
       "9                      75.823529  92.780364        86.929412\n",
       "10                   7314.526316  86.975325        81.605263\n",
       "11                     65.300000  86.169463        76.600000"
      ]
     },
     "execution_count": 22,
     "metadata": {},
     "output_type": "execute_result"
    }
   ],
   "source": [
    "means = grouped_by_park.groupby([\"Supervisor District\"]).mean()\n",
    "means"
   ]
  },
  {
   "cell_type": "code",
   "execution_count": 23,
   "metadata": {
    "collapsed": false
   },
   "outputs": [
    {
     "data": {
      "text/plain": [
       "array([ 1,  2,  3,  4,  5,  6,  7,  8,  9, 10, 11])"
      ]
     },
     "execution_count": 23,
     "metadata": {},
     "output_type": "execute_result"
    }
   ],
   "source": [
    "means.index.values"
   ]
  },
  {
   "cell_type": "code",
   "execution_count": 37,
   "metadata": {
    "collapsed": false
   },
   "outputs": [
    {
     "data": {
      "text/plain": [
       "array([ 90.02356371,  93.51195438,  93.91952346,  89.5129199 ,\n",
       "        88.93864833,  90.6315163 ,  91.60680563,  89.31924232,\n",
       "        92.78036448,  86.97532498,  86.16946273])"
      ]
     },
     "execution_count": 37,
     "metadata": {},
     "output_type": "execute_result"
    }
   ],
   "source": [
    "means[\"Score\"].values"
   ]
  },
  {
   "cell_type": "code",
   "execution_count": 24,
   "metadata": {
    "collapsed": false
   },
   "outputs": [
    {
     "data": {
      "text/plain": [
       "Float64Index([1.0, 2.0, 3.0, 4.0, 5.0, 6.0, 7.0, 8.0, 9.0, 10.0, 11.0], dtype='float64', name='Supervisor District')"
      ]
     },
     "execution_count": 24,
     "metadata": {},
     "output_type": "execute_result"
    }
   ],
   "source": [
    "lib_data_w_sd.groupby([\"Supervisor District\"]).mean().index"
   ]
  },
  {
   "cell_type": "code",
   "execution_count": null,
   "metadata": {
    "collapsed": true
   },
   "outputs": [],
   "source": []
  }
 ],
 "metadata": {
  "kernelspec": {
   "display_name": "Python 3",
   "language": "python",
   "name": "python3"
  },
  "language_info": {
   "codemirror_mode": {
    "name": "ipython",
    "version": 3
   },
   "file_extension": ".py",
   "mimetype": "text/x-python",
   "name": "python",
   "nbconvert_exporter": "python",
   "pygments_lexer": "ipython3",
   "version": "3.5.0"
  }
 },
 "nbformat": 4,
 "nbformat_minor": 0
}
